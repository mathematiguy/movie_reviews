{
 "cells": [
  {
   "cell_type": "markdown",
   "metadata": {},
   "source": [
    "# Clustering Star Wars Reviews"
   ]
  },
  {
   "cell_type": "code",
   "execution_count": 1,
   "metadata": {},
   "outputs": [],
   "source": [
    "import numpy as np\n",
    "import pandas as pd\n",
    "\n",
    "import nltk\n",
    "import spacy\n",
    "import textacy\n",
    "\n",
    "import matplotlib\n",
    "import matplotlib.pyplot as plt\n",
    "matplotlib.style.use('ggplot')\n",
    "% matplotlib inline"
   ]
  },
  {
   "cell_type": "code",
   "execution_count": 2,
   "metadata": {},
   "outputs": [],
   "source": [
    "review_data = pd.read_csv(\"../rotten_tomatoes/reviews.csv\")\n",
    "review_data = review_data.drop_duplicates()"
   ]
  },
  {
   "cell_type": "code",
   "execution_count": 3,
   "metadata": {},
   "outputs": [],
   "source": [
    "nlp = spacy.load('en')"
   ]
  },
  {
   "cell_type": "code",
   "execution_count": 4,
   "metadata": {},
   "outputs": [
    {
     "data": {
      "text/html": [
       "<div>\n",
       "<style scoped>\n",
       "    .dataframe tbody tr th:only-of-type {\n",
       "        vertical-align: middle;\n",
       "    }\n",
       "\n",
       "    .dataframe tbody tr th {\n",
       "        vertical-align: top;\n",
       "    }\n",
       "\n",
       "    .dataframe thead th {\n",
       "        text-align: right;\n",
       "    }\n",
       "</style>\n",
       "<table border=\"1\" class=\"dataframe\">\n",
       "  <thead>\n",
       "    <tr style=\"text-align: right;\">\n",
       "      <th></th>\n",
       "      <th>date</th>\n",
       "      <th>review</th>\n",
       "      <th>star_rating</th>\n",
       "      <th>name</th>\n",
       "    </tr>\n",
       "  </thead>\n",
       "  <tbody>\n",
       "    <tr>\n",
       "      <th>0</th>\n",
       "      <td>December 24, 2017</td>\n",
       "      <td>One start only because of the special effects.</td>\n",
       "      <td>1.0</td>\n",
       "      <td>Ed F</td>\n",
       "    </tr>\n",
       "    <tr>\n",
       "      <th>1</th>\n",
       "      <td>December 24, 2017</td>\n",
       "      <td>When I heard Disney had purchased Star Wars so...</td>\n",
       "      <td>0.5</td>\n",
       "      <td>Hals R</td>\n",
       "    </tr>\n",
       "    <tr>\n",
       "      <th>2</th>\n",
       "      <td>December 24, 2017</td>\n",
       "      <td>\"Just breathe\" and go see it a second time. En...</td>\n",
       "      <td>4.0</td>\n",
       "      <td>Ian A</td>\n",
       "    </tr>\n",
       "    <tr>\n",
       "      <th>3</th>\n",
       "      <td>December 24, 2017</td>\n",
       "      <td>If you need to keep checking your watch, the m...</td>\n",
       "      <td>1.0</td>\n",
       "      <td>M M</td>\n",
       "    </tr>\n",
       "    <tr>\n",
       "      <th>4</th>\n",
       "      <td>December 24, 2017</td>\n",
       "      <td>Just hated it. Wanted this movie to make some ...</td>\n",
       "      <td>0.5</td>\n",
       "      <td>James N</td>\n",
       "    </tr>\n",
       "  </tbody>\n",
       "</table>\n",
       "</div>"
      ],
      "text/plain": [
       "                date                                             review  \\\n",
       "0  December 24, 2017     One start only because of the special effects.   \n",
       "1  December 24, 2017  When I heard Disney had purchased Star Wars so...   \n",
       "2  December 24, 2017  \"Just breathe\" and go see it a second time. En...   \n",
       "3  December 24, 2017  If you need to keep checking your watch, the m...   \n",
       "4  December 24, 2017  Just hated it. Wanted this movie to make some ...   \n",
       "\n",
       "   star_rating      name  \n",
       "0          1.0      Ed F  \n",
       "1          0.5    Hals R  \n",
       "2          4.0     Ian A  \n",
       "3          1.0       M M  \n",
       "4          0.5   James N  "
      ]
     },
     "execution_count": 4,
     "metadata": {},
     "output_type": "execute_result"
    }
   ],
   "source": [
    "review_data.head()"
   ]
  },
  {
   "cell_type": "markdown",
   "metadata": {},
   "source": [
    "## Clustering with DBSCAN"
   ]
  },
  {
   "cell_type": "markdown",
   "metadata": {},
   "source": [
    "We can use `DBSCAN` to find reviews with similar meanings."
   ]
  },
  {
   "cell_type": "code",
   "execution_count": 5,
   "metadata": {},
   "outputs": [],
   "source": [
    "from sklearn.cluster import DBSCAN\n",
    "\n",
    "reviews = nlp.pipe(review_data.review, n_threads = 4, batch_size = 150, cleanup = True)\n",
    "X = np.array([rev.vector for rev in reviews])\n",
    "\n",
    "dbs = DBSCAN(eps=7, min_samples=2, metric='euclidean', metric_params=None, \n",
    "             algorithm='auto', leaf_size=1, p=None, n_jobs=-1)\n",
    "\n",
    "clusters = dbs.fit_predict(X)\n",
    "review_data['cluster'] = clusters\n",
    "(review_data.cluster\n",
    "     .value_counts()\n",
    "     .plot(kind = 'bar', title = 'cluster counts', logy = True))"
   ]
  },
  {
   "cell_type": "code",
   "execution_count": 102,
   "metadata": {},
   "outputs": [
    {
     "data": {
      "text/plain": [
       "<matplotlib.axes._subplots.AxesSubplot at 0x19e238becf8>"
      ]
     },
     "execution_count": 102,
     "metadata": {},
     "output_type": "execute_result"
    },
    {
     "data": {
      "image/png": "[encoded data removed]",
      "text/plain": [
       "<matplotlib.figure.Figure at 0x19e238d24e0>"
      ]
     },
     "metadata": {},
     "output_type": "display_data"
    }
   ],
   "source": [
    "(review_data.cluster\n",
    "     .value_counts()\n",
    "     .plot(kind = 'bar', title = 'cluster counts'))"
   ]
  },
  {
   "cell_type": "code",
   "execution_count": 115,
   "metadata": {
    "scrolled": true
   },
   "outputs": [
    {
     "data": {
      "text/plain": [
       "0      1.0\n",
       "1      0.5\n",
       "2      4.0\n",
       "3      1.0\n",
       "4      0.5\n",
       "5      4.5\n",
       "6      0.5\n",
       "7      2.5\n",
       "8      0.0\n",
       "9      1.5\n",
       "10     0.5\n",
       "11     2.0\n",
       "12     1.5\n",
       "13     1.0\n",
       "14     0.5\n",
       "15     3.0\n",
       "16     5.0\n",
       "17     5.0\n",
       "18     2.0\n",
       "19     0.5\n",
       "20     4.0\n",
       "21     0.5\n",
       "22     0.5\n",
       "23     0.0\n",
       "24     0.0\n",
       "25     3.5\n",
       "38     0.0\n",
       "39     2.0\n",
       "40     2.0\n",
       "41     0.5\n",
       "      ... \n",
       "813    2.0\n",
       "814    0.5\n",
       "815    5.0\n",
       "816    0.5\n",
       "817    0.5\n",
       "818    0.5\n",
       "819    0.5\n",
       "820    0.5\n",
       "821    1.0\n",
       "822    1.0\n",
       "823    2.0\n",
       "824    0.5\n",
       "825    1.0\n",
       "826    1.0\n",
       "827    0.0\n",
       "828    0.5\n",
       "829    1.0\n",
       "830    1.0\n",
       "831    1.0\n",
       "832    0.5\n",
       "833    1.0\n",
       "834    0.5\n",
       "835    5.0\n",
       "836    0.0\n",
       "837    0.5\n",
       "838    1.0\n",
       "839    4.0\n",
       "840    1.0\n",
       "841    0.5\n",
       "842    2.0\n",
       "Name: star_rating, Length: 681, dtype: float64"
      ]
     },
     "execution_count": 115,
     "metadata": {},
     "output_type": "execute_result"
    }
   ],
   "source": [
    "review_data.loc[~review_data.cluster.isin([1, 2]), 'star_rating']"
   ]
  },
  {
   "cell_type": "code",
   "execution_count": 121,
   "metadata": {},
   "outputs": [
    {
     "data": {
      "text/plain": [
       "cluster\n",
       "-1    AxesSubplot(0.125,0.125;0.775x0.755)\n",
       " 0    AxesSubplot(0.125,0.125;0.775x0.755)\n",
       "Name: star_rating, dtype: object"
      ]
     },
     "execution_count": 121,
     "metadata": {},
     "output_type": "execute_result"
    },
    {
     "data": {
      "image/png": "[encoded data removed]",
      "text/plain": [
       "<matplotlib.figure.Figure at 0x19e24bdf5c0>"
      ]
     },
     "metadata": {},
     "output_type": "display_data"
    }
   ],
   "source": [
    "(review_data\n",
    "     [~review_data.cluster.isin([1, 2])]\n",
    "     .groupby('cluster')\n",
    "     ['star_rating']\n",
    "     .plot(kind = 'density', legend = True)\n",
    ")"
   ]
  },
  {
   "cell_type": "code",
   "execution_count": 95,
   "metadata": {},
   "outputs": [
    {
     "data": {
      "text/html": [
       "<div>\n",
       "<style scoped>\n",
       "    .dataframe tbody tr th:only-of-type {\n",
       "        vertical-align: middle;\n",
       "    }\n",
       "\n",
       "    .dataframe tbody tr th {\n",
       "        vertical-align: top;\n",
       "    }\n",
       "\n",
       "    .dataframe thead th {\n",
       "        text-align: right;\n",
       "    }\n",
       "</style>\n",
       "<table border=\"1\" class=\"dataframe\">\n",
       "  <thead>\n",
       "    <tr style=\"text-align: right;\">\n",
       "      <th></th>\n",
       "      <th>date</th>\n",
       "      <th>review</th>\n",
       "      <th>star_rating</th>\n",
       "      <th>name</th>\n",
       "      <th>cluster</th>\n",
       "    </tr>\n",
       "  </thead>\n",
       "  <tbody>\n",
       "    <tr>\n",
       "      <th>187</th>\n",
       "      <td>December 24, 2017</td>\n",
       "      <td>So bad in so many ways....</td>\n",
       "      <td>0.5</td>\n",
       "      <td></td>\n",
       "      <td>1</td>\n",
       "    </tr>\n",
       "    <tr>\n",
       "      <th>387</th>\n",
       "      <td>December 24, 2017</td>\n",
       "      <td>Very bad on many levels.</td>\n",
       "      <td>0.5</td>\n",
       "      <td>Dave A</td>\n",
       "      <td>1</td>\n",
       "    </tr>\n",
       "  </tbody>\n",
       "</table>\n",
       "</div>"
      ],
      "text/plain": [
       "                  date                      review  star_rating     name  \\\n",
       "187  December 24, 2017  So bad in so many ways....          0.5            \n",
       "387  December 24, 2017    Very bad on many levels.          0.5   Dave A   \n",
       "\n",
       "     cluster  \n",
       "187        1  \n",
       "387        1  "
      ]
     },
     "execution_count": 95,
     "metadata": {},
     "output_type": "execute_result"
    }
   ],
   "source": [
    "review_data[review_data.cluster == 1]"
   ]
  },
  {
   "cell_type": "code",
   "execution_count": 96,
   "metadata": {},
   "outputs": [
    {
     "data": {
      "text/html": [
       "<div>\n",
       "<style scoped>\n",
       "    .dataframe tbody tr th:only-of-type {\n",
       "        vertical-align: middle;\n",
       "    }\n",
       "\n",
       "    .dataframe tbody tr th {\n",
       "        vertical-align: top;\n",
       "    }\n",
       "\n",
       "    .dataframe thead th {\n",
       "        text-align: right;\n",
       "    }\n",
       "</style>\n",
       "<table border=\"1\" class=\"dataframe\">\n",
       "  <thead>\n",
       "    <tr style=\"text-align: right;\">\n",
       "      <th></th>\n",
       "      <th>date</th>\n",
       "      <th>review</th>\n",
       "      <th>star_rating</th>\n",
       "      <th>name</th>\n",
       "      <th>cluster</th>\n",
       "    </tr>\n",
       "  </thead>\n",
       "  <tbody>\n",
       "    <tr>\n",
       "      <th>586</th>\n",
       "      <td>December 24, 2017</td>\n",
       "      <td>JUST THE WORST!!!!!!! THEY KILL LUKE SKYWALKER...</td>\n",
       "      <td>0.5</td>\n",
       "      <td></td>\n",
       "      <td>2</td>\n",
       "    </tr>\n",
       "    <tr>\n",
       "      <th>619</th>\n",
       "      <td>December 24, 2017</td>\n",
       "      <td>Oh my!!! No!!! All these years waiting and thi...</td>\n",
       "      <td>0.5</td>\n",
       "      <td></td>\n",
       "      <td>2</td>\n",
       "    </tr>\n",
       "  </tbody>\n",
       "</table>\n",
       "</div>"
      ],
      "text/plain": [
       "                  date                                             review  \\\n",
       "586  December 24, 2017  JUST THE WORST!!!!!!! THEY KILL LUKE SKYWALKER...   \n",
       "619  December 24, 2017  Oh my!!! No!!! All these years waiting and thi...   \n",
       "\n",
       "     star_rating name  cluster  \n",
       "586          0.5             2  \n",
       "619          0.5             2  "
      ]
     },
     "execution_count": 96,
     "metadata": {},
     "output_type": "execute_result"
    }
   ],
   "source": [
    "review_data[review_data.cluster == 2]"
   ]
  },
  {
   "cell_type": "code",
   "execution_count": 128,
   "metadata": {
    "scrolled": false
   },
   "outputs": [
    {
     "name": "stdout",
     "output_type": "stream",
     "text": [
      "Lazy writing, bad dialogue and worse character development (or lack there of). Some pretty cool moments though.\n",
      "\n",
      "------------------------\n",
      "\n",
      "This social justice warrior movie makes me sick\n",
      "\n",
      "Snoke was pointless and turns out not to be a major character at all. For someone so strong, he was sure killed easily and in a pathetic way. \n",
      "\n",
      "Rey is nobody....\n",
      "\n",
      "Luke is a coward who then dies because he used the force. \n",
      "\n",
      "Han and Luke are dead. Carrie Fisher RIP can't be in the next movie. There's the 3 big heros gone.\n",
      "\n",
      "Forced an inappropriately timed humor. \n",
      "\n",
      "Dumb script\n",
      "\n",
      "Horrible plot \n",
      "\n",
      "Chewy had 1 minute of screen time\n",
      "\n",
      "Still unoriginal/ similar plot to episode 5 just like force awakens had an almost identical plot to a new hope \n",
      "\n",
      "Finn could have sacrificed himself to save to rebel base but that dumb girl rose stopped him, ruining a possibility of a good plot point and a beautiful sacrifice for three greater good. \n",
      "\n",
      "How did phasma get off starkiller base, is sheer really dead this time? \n",
      "\n",
      "How did Kylo get off starkiller base\n",
      "\n",
      "Kylo kills his master then wants Rey to join him. Go find an original idea!\n",
      "\n",
      "Leia surviving in space and force pulling herself into the ship was stupid. Sure she is force sensitive but had never demonstrated any true force abilities but all the sudden is super strong in the force. \n",
      "\n",
      "The whole plot would have been different had leia's replacement commander just told poe the plan. Their inability to communicate caused every issue they encountered\n",
      "\n",
      "The only part of the movie I like was Paige Tico making that hero move opening the bomber doors knowing she would die to destroy the dreadnought\n",
      "\n",
      "------------------------\n",
      "\n",
      "The movie is feeding us plot hole over plot hole. Characters make unrealistic and out of character decisions throughout the movie. I´m left bewildered and extremely sad for this franchise. As a single movie (without having seen) any of the previous films it does look quite good tho, but with knowing the story what came before its just a big mess. \n",
      "\n",
      "Just one examples... If ships in star wars have no defence what so ever against other small ships moving at light speed then why even bother building the Death Star, just shoot things (ships/planets) with x-wings at light speed and the galaxy is on its knees. Stupid, stupid writing.\n",
      "\n",
      "Seems like no thought was given to the state of the galaxy. Where did the First Order come from? Wasnt the Republic supposed to be in charge for the last 30-40 years? Suddenly the galaxy is filled with the First Order with unlimited resources (but miserably unable to destroy a few space ships a few kilometers ahead for 5 hours).\n",
      "\n",
      "And guys, why make Luke a cowardly weak lying child killer? I am so sorry Luke and Mark Hamill... you did not deserve this treatment.\n",
      "\n",
      "------------------------\n",
      "\n",
      "Not terrible but not great either. I am trying to not get swallowed up with nostalgia but there is just no denying the original trilogy is simply much better than the sequel trilogy films. Main reason. A sense of threat. There is none inthe new films. It's like Disney are terrified to make them too dramatic in case the six year olds get too scared. I notice that with rogue one they were not concerned about this. Perhaps that is because they are not as concerned about revenue with the stand alones than they are with the main trilogy now. A real shame. Wayyy to much weird humour in the new film which made the pacing of the movies very strange and unusual. Hundreds of people are dying. Let's crack a joke. Force awakens was the same. It's such a shame because this main trilogy could Be awesome. I have no wish to see this film again. That's not the Star Wars I remember when I watched empire back to back in one sitting in the cinema.\n",
      "\n",
      "------------------------\n",
      "\n",
      "Did not answer or address any story line arcs from Force Awakens. Rian Johnson's went into the creation of this movie with a Troll mentality and total disrespect to original trilogy. Spend 4 billion, I'm going to do what I damn well please. Hey Disney, how many of us fans can you afford to alienate before it cost you. If this is the direction your going my grandchildren will not be brought into \"your\" corrupted cannon. Thank you for destroying my heroes Luke, Leia, and Han. Going to pass on your under developed pussy, politically correct Millennials. Hope you can work global warming into episode 9 to keep them on board. Pass on this movie if you haven't seen it.\n",
      "\n",
      "------------------------\n",
      "\n",
      "complete miss, poorly written move. Such a missed opportunity.\n",
      "\n",
      "------------------------\n",
      "\n",
      "It's Star Wars  automatic 3 stars just for the cineverse. \n",
      "\n",
      "------------------------\n",
      "\n",
      "This might be he worst Star Wars film ever. They should have left the classic characters out of this trash and just started over.Suffice to say they won't be getting anymore of my money. George Lucas we miss you.\n",
      "\n",
      "------------------------\n",
      "\n",
      "Utter garbage. I wonder how much disney pays these critics and fake people who \"loved\" it. The movie is laughable, i didn't know what was worse, the plot or the surprised awful awkward romance between Finn and Rose, like where the hell did that come from? Luke Skywalker turned to a miserabke bitchy character who was absolutely USELESS! Snoke was nothing but a filler, Kylo Ren is just man child and will never be as intimidating and scary as Darth Vader. Oh and no one cares about Rey because Luke never actually got to train her and that she has absolutely no connection to the skywalker family.\n",
      "\n",
      "------------------------\n",
      "\n",
      "Boring, so very boring. The entire movie was a very slow chase scene, why didn't the first order just have more ships come? The whole plot hinged on Po not being told the plan. Oh man I feel like PETA was involved in this movie. And the jokes so many, so stupid. Poor Luke Skywalker they did him wrong. They made him look so pathetic to get us to like the new characters, I was already liking them he didn't deserve that.\n",
      "\n",
      "------------------------\n",
      "\n"
     ]
    }
   ],
   "source": [
    "for r in review_data[review_data.cluster == 0].sample(10).review.values:\n",
    "    print(r)\n",
    "    print(\"\\n------------------------\\n\")"
   ]
  },
  {
   "cell_type": "code",
   "execution_count": null,
   "metadata": {},
   "outputs": [],
   "source": []
  },
  {
   "cell_type": "code",
   "execution_count": null,
   "metadata": {},
   "outputs": [],
   "source": []
  },
  {
   "cell_type": "code",
   "execution_count": null,
   "metadata": {},
   "outputs": [],
   "source": []
  },
  {
   "cell_type": "code",
   "execution_count": null,
   "metadata": {},
   "outputs": [],
   "source": []
  },
  {
   "cell_type": "code",
   "execution_count": null,
   "metadata": {},
   "outputs": [],
   "source": []
  },
  {
   "cell_type": "code",
   "execution_count": null,
   "metadata": {},
   "outputs": [],
   "source": []
  },
  {
   "cell_type": "code",
   "execution_count": null,
   "metadata": {},
   "outputs": [],
   "source": []
  },
  {
   "cell_type": "code",
   "execution_count": null,
   "metadata": {},
   "outputs": [],
   "source": []
  },
  {
   "cell_type": "code",
   "execution_count": null,
   "metadata": {},
   "outputs": [],
   "source": []
  },
  {
   "cell_type": "code",
   "execution_count": null,
   "metadata": {},
   "outputs": [],
   "source": []
  },
  {
   "cell_type": "code",
   "execution_count": null,
   "metadata": {},
   "outputs": [],
   "source": []
  },
  {
   "cell_type": "code",
   "execution_count": null,
   "metadata": {},
   "outputs": [],
   "source": []
  },
  {
   "cell_type": "code",
   "execution_count": null,
   "metadata": {},
   "outputs": [],
   "source": []
  },
  {
   "cell_type": "code",
   "execution_count": null,
   "metadata": {},
   "outputs": [],
   "source": []
  },
  {
   "cell_type": "code",
   "execution_count": null,
   "metadata": {},
   "outputs": [],
   "source": []
  },
  {
   "cell_type": "code",
   "execution_count": null,
   "metadata": {},
   "outputs": [],
   "source": []
  },
  {
   "cell_type": "code",
   "execution_count": null,
   "metadata": {},
   "outputs": [],
   "source": []
  },
  {
   "cell_type": "code",
   "execution_count": null,
   "metadata": {},
   "outputs": [],
   "source": []
  },
  {
   "cell_type": "code",
   "execution_count": null,
   "metadata": {},
   "outputs": [],
   "source": []
  },
  {
   "cell_type": "code",
   "execution_count": null,
   "metadata": {},
   "outputs": [],
   "source": []
  },
  {
   "cell_type": "code",
   "execution_count": null,
   "metadata": {},
   "outputs": [],
   "source": []
  },
  {
   "cell_type": "code",
   "execution_count": null,
   "metadata": {},
   "outputs": [],
   "source": []
  },
  {
   "cell_type": "code",
   "execution_count": null,
   "metadata": {},
   "outputs": [],
   "source": []
  },
  {
   "cell_type": "code",
   "execution_count": null,
   "metadata": {},
   "outputs": [],
   "source": []
  },
  {
   "cell_type": "code",
   "execution_count": null,
   "metadata": {},
   "outputs": [],
   "source": []
  },
  {
   "cell_type": "code",
   "execution_count": null,
   "metadata": {},
   "outputs": [],
   "source": []
  },
  {
   "cell_type": "code",
   "execution_count": null,
   "metadata": {},
   "outputs": [],
   "source": []
  },
  {
   "cell_type": "code",
   "execution_count": null,
   "metadata": {},
   "outputs": [],
   "source": []
  },
  {
   "cell_type": "code",
   "execution_count": null,
   "metadata": {},
   "outputs": [],
   "source": []
  },
  {
   "cell_type": "code",
   "execution_count": null,
   "metadata": {},
   "outputs": [],
   "source": []
  },
  {
   "cell_type": "code",
   "execution_count": null,
   "metadata": {},
   "outputs": [],
   "source": []
  },
  {
   "cell_type": "code",
   "execution_count": null,
   "metadata": {},
   "outputs": [],
   "source": []
  },
  {
   "cell_type": "code",
   "execution_count": null,
   "metadata": {},
   "outputs": [],
   "source": []
  },
  {
   "cell_type": "code",
   "execution_count": null,
   "metadata": {},
   "outputs": [],
   "source": []
  },
  {
   "cell_type": "code",
   "execution_count": null,
   "metadata": {},
   "outputs": [],
   "source": []
  },
  {
   "cell_type": "code",
   "execution_count": null,
   "metadata": {},
   "outputs": [],
   "source": []
  },
  {
   "cell_type": "code",
   "execution_count": null,
   "metadata": {},
   "outputs": [],
   "source": []
  },
  {
   "cell_type": "code",
   "execution_count": null,
   "metadata": {},
   "outputs": [],
   "source": []
  },
  {
   "cell_type": "code",
   "execution_count": null,
   "metadata": {},
   "outputs": [],
   "source": []
  }
 ],
 "metadata": {
  "kernelspec": {
   "display_name": "Python 3",
   "language": "python",
   "name": "python3"
  },
  "language_info": {
   "codemirror_mode": {
    "name": "ipython",
    "version": 3
   },
   "file_extension": ".py",
   "mimetype": "text/x-python",
   "name": "python",
   "nbconvert_exporter": "python",
   "pygments_lexer": "ipython3",
   "version": "3.6.3"
  }
 },
 "nbformat": 4,
 "nbformat_minor": 2
}
