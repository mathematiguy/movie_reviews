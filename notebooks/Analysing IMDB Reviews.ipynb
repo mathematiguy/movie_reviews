{
 "cells": [
  {
   "cell_type": "markdown",
   "metadata": {},
   "source": [
    "# Analysing IMDB Reviews"
   ]
  },
  {
   "cell_type": "code",
   "execution_count": 3,
   "metadata": {},
   "outputs": [],
   "source": [
    "import pandas as pd\n",
    "import numpy as np\n",
    "\n",
    "import matplotlib\n",
    "import matplotlib.pyplot as plt\n",
    "matplotlib.style.use('ggplot')\n",
    "%matplotlib inline"
   ]
  },
  {
   "cell_type": "code",
   "execution_count": 21,
   "metadata": {},
   "outputs": [],
   "source": [
    "imdb_data = pd.read_csv(\"../data/imdb_data.csv\")"
   ]
  },
  {
   "cell_type": "code",
   "execution_count": 24,
   "metadata": {},
   "outputs": [
    {
     "data": {
      "text/plain": [
       "<matplotlib.axes._subplots.AxesSubplot at 0x22d24940dd8>"
      ]
     },
     "execution_count": 24,
     "metadata": {},
     "output_type": "execute_result"
    },
    {
     "data": {
      "image/png": "[encoded data removed]",
      "text/plain": [
       "<matplotlib.figure.Figure at 0x22d2437d080>"
      ]
     },
     "metadata": {},
     "output_type": "display_data"
    }
   ],
   "source": [
    "(imdb_data.star_rating\n",
    "     .plot(kind = 'hist', bins = 11, title = 'Star Rating Frequency'))"
   ]
  },
  {
   "cell_type": "code",
   "execution_count": 26,
   "metadata": {},
   "outputs": [
    {
     "data": {
      "text/plain": [
       "Index(['downvotes', 'star_rating', 'date', 'review', 'upvotes', 'user_link',\n",
       "       'name'],\n",
       "      dtype='object')"
      ]
     },
     "execution_count": 26,
     "metadata": {},
     "output_type": "execute_result"
    }
   ],
   "source": [
    "imdb_data.columns"
   ]
  },
  {
   "cell_type": "code",
   "execution_count": 34,
   "metadata": {
    "scrolled": false
   },
   "outputs": [
    {
     "name": "stdout",
     "output_type": "stream",
     "text": [
      "Rian Johnson takes aim on all our preconceptions of what Episode VIII should be and blows them to smithereens. Good for him! It's time for the Skywalker hegemony -- on both sides of The Force -- to end.\n",
      "\n",
      "---------------\n",
      "\n",
      "First of all, I'm a Star Wars fan since I was old enough to watch the movies, roughly since the mid-90s. I've read a lot of books (mostly pre-Palpatine-era) and watched most SW movies 50+ times and more and enjoyed games like the Jedi Knight series or KoTOR series, too.Just like the movie \"The Force Awakens\", the \"Last Jedi\" completely destroys everything you could expect from a Star Wars movie. It reminds me of \"Kingdom of the Crystal Skull\", this The-Asylum-like Indiana Jones piss-take, combined with awful Dwayne-Johnson-Baywatch-dialogs.Jedi/Sith lore: Downright subsidiary during the whole movie. The Force and the Jedi lore were only \"used\" to remind the audience of Star Wars and the Force. There are no mysteries in the movie, no \"Beware of the Dark Side\" nor mysterious places corrupted by the dark side (something like a Sith temple). If you expect some strong Jedi/Sith characters like Kenobi, Windu, the Emperor Darth Sidious/Palpatine or Vader: they're not intended to be part of this movie.Creatures: Merely used to support scenes or the plot or to create \"funny\" moments. Just imagine a cute kitten, which would have ended up as a dinner for Conan the barbarian, but finally escapes making huge cute kitten eyes, turning Conan to teras and leaving him as an upright vegan. \"There are rats, they're intelligent animals, always guessing the right way out\". Even Thestrales or Hippogriffs from the Harry Potter movies had a more meaningful right to exist.Other characters: There are no main characters, hence every character seems to be a supporting one. Of course, there's a short and simple main plot, but every character seems to play a minor role... Bla bla bla...If you have read Lord of the Rings and if you could imagine Frodo (in a movie \"based\" on Toliens original novel) snitching a ringwraith-dragon out of Gothmog's garage, flying to Sauron to cut off his head with his high-tech-elven-sword Sting after rushing trough Shelobs den to get rid of the remaining ringwraiths and afterwards returning back to his buddy Gandalf, twinkling and asking something like \"Got a new haircut?\", you could probably imagine what \"The Last Jedi\" is like.\n",
      "\n",
      "---------------\n",
      "\n",
      "I will keep this non spoiler but this movie feels and is a product used to sell the merchandise of a brand called \"Star Wars\". The production team did pretty good to attract the kids to go to the shop and buy Star Wars products. The writing and the action seemed quite like a generic Star Wars movie so if you like the old one then you could enjoy the action. Overall this is not the best Star Wars movie nor the worst an stands as the awkward middle child of the Star Wars franchise when it comes to expectation and the content.\n",
      "\n",
      "---------------\n",
      "\n",
      "So what was the point of the whole OT and PT??? We're all the events that took place useless??\n",
      "\n",
      "---------------\n",
      "\n",
      "I'm not going to spend a lot of time on this because everyone's opinions are polarized and highly subjective, but as a 45 year old fan who's been to every theatrical screening and who is a ardent SW fan ( my initials are even SW) this film was the most disappointing trilogy film since the prequels. The cinematography, the effects, the score were all amazing as one should expect, but the story, full of quips, jokes, and unlikely scenarios felt convoluted and contrived. There was no natural Star Wars feel to it. My wife and I left dumbstruck at how poorly the movie came off.I would never try to evangelize my perspective and I don't fault people who live the movie...art is subjective and there's no accounting for what people will like or dislike...mine is but one opinion. That said, collider suggested that bots or spammers are contributing to a lower score than would make sense, and thus I felt the neepd to opine and explain the position of one very passionate Star Wars fan. Why would I badmouth the most beloved movie franchise that has come to be one of the greatest passions and hobbies in my life? Only because it didn't work for me...because it didn't feel right, because my favorite movie fell victim to a plague that's runing most cinema today...bad writing.\n",
      "\n",
      "---------------\n",
      "\n",
      "I guess I am on the same page as most of the The Last Jedi critiquers. Weak, weak script. With an obviously large budget to create this mess, you would have thought that someone on the staff would be in charge of pointing out the crappy parts and to write something better. Apparently, many movies don't bother to hire this person or persons. I guess their attitude is \"this is Star Wars and it will make a ton of money regardless\". Too bad. I went in with high expectations and was totally disappointed. They messed up Luke,Leia, Kylo Ren, Stokes, the Force, basic physics, Rey's parentage, etc... Bombers? Really? Stupid.\n",
      "\n",
      "---------------\n",
      "\n",
      "It literally said: \"It's time to let old things die\".This is a Disney's movie with Disney's movie logic.\r\n",
      "It didn't even pretended as a continuation from old SW movies despite bearing SW name and old casts (which all eventually killed/died anyway).Seeing a freshness but shallow thought (or lack of it), the movie writers are young I guess. You might be able to depict something more powerful, but never a wiser thought than you already are.Like any other recent movies, they're also copying Game of Thrones style: killing some key characters prematurely. While it works in GOT, of course, lack of originality make it just another cliche, a cheap shock/sensation in this movie.To be fair, it's actually a good action movie for someone who has yet seen or invented on previous SW movies. But never expect the same vibe, legacy or even coherency with old SW canon, it's next to nothing.Rating: 7.5/10 if you are new generation, 3/10 if you are old SW fans.\n",
      "\n",
      "---------------\n",
      "\n",
      "I really wish i had liked this movie. I really love the star wars movies, and was so disappointed. There really was not much, if anything that i enjoyed about it. First of all its the longest Star Wars movie clocking in at 2.5 hrs, add in the 30 mins of trailers and commercials and your investment is a long three hours. \r\n",
      " Visually it was great, storyline was imho very forced and did not feel fluid. The script was just bad.\r\n",
      " There are some really lame segments in the movie. Finn's little adventure with new character rose was one of those segments. Just boring and unnecessary. Rose character is again a waste of time and shouldn't have even had a role. She feels forced, takes away from finn\r\n",
      "Leia flying through the vacuum of space is one of the worst things i have ever seen in a star wars movie. \r\n",
      "The way snoke dies was pathetic.\r\n",
      "The way luke dies is even worse.\r\n",
      "Humor is forced and unnecessary. Unfortunately there is a lot of bad humor in this movie. \r\n",
      "Benicio del toro is a great actor, he did a fine job as a slicer, but was a waste of time on the big screen. \r\n",
      "Domhall Gleeson is a good actor, but he has not performed in the role of Hux. \r\n",
      "Rian Johnson might be able to shoot a great film visually, but writing a star wars script is not his thing. its as if he shoved too much info into this movie, and a bunch of it could have just been removed and it would have flowed much better.\n",
      "\n",
      "---------------\n",
      "\n",
      "Not the explanation we needed for key characters , no point watching most of the first 60 mins of the film very boring , however on a positive after the first 60 mins some good plot twists.\n",
      "\n",
      "---------------\n",
      "\n",
      "'STAR WARS: THE LAST JEDI': Five Stars (Out of Five)The ninth installment in the 'STAR WARS' film franchise (12th counting two made for television 'EWOK' movies, and an animated film). It picks up right where 2015's 'STAR WARS: THE FORCE AWAKENS' left off, and revolves around Rey teaming up with Luke Skywalker, Leia Organa, Finn, Poe, and others, to defend the galaxy from the First Order, and the dark side of the force. The movie was written and directed by Rian Johnson (who also helmed the critically acclaimed 2012 sci-fi hit 'LOOPER'). It stars Daisy Ridley, John Boyega, Adam Driver, Oscar Isaac, Mark Hamill, Carrie Fisher (in one of her final film roles), Domhnall Gleeson, Andy Serkis, Anthony Daniels and Peter Mayhew, in returning roles. While Kelly Marie Tran, Benicio del Toro and Laura Dern all join the cast. It's gotten mostly positive reviews from critics, and it's expected to be another huge blockbuster at the Box Office as well, of course. I of course loved it! The film begins with the Rebel Alliance desperately trying to escape an attack by the First Order (in space). At the same time Rey is meeting Luke Skywalker (Hamill) for the first time, in his distant place of hiding, and he is not happy to see her (at all). Rey persistently tries to convince Luke to return with her, to aid the Resistance in their great time of need, while General Leia Organa (Fisher) is harmed in an attack, and put into a coma. Poe Dameron (Isaac) concocts his own plan to get the Alliance out of danger, against the orders of the new Admiral (Dern), and he finds help from Finn (Boyega), and a new friend named Rose (Tran). Kylo Ren (Driver) also deals with his own inner struggles, in dealing with the force (and his fate), as does Rey. The movie is surprisingly unpredictable, and filled with shocking twists. The suspense, and action scenes, are also really well done, to the extent where I was literally on the edge of my seat, throughout a good chunk of the whole movie. The humor is a little too comedic, for a 'STAR WARS' film (in my opinion), at times, but the emotional drama, and character development, is more than most fans could even ask for. There's also really effective social commentary, on corrupt government and big business, and there's even a few scenes promoting veganism, and animal rights, which I loved. Most of all, the nostalgia of the whole thing is once again breathtaking (I cried multiple times). Being a huge fan of 'STAR WARS', I was definitely more than pleased with this installment. It might not be quite as good as 'ROGUE ONE', but it's definitely one of the best films of the year, and I can't wait to see it two or three more times, in the theater!\n"
     ]
    }
   ],
   "source": [
    "print('\\n\\n---------------\\n\\n'.join(imdb_data.loc[imdb_data.star_rating == 0, 'review'].sample(10).values))"
   ]
  },
  {
   "cell_type": "code",
   "execution_count": 12,
   "metadata": {
    "scrolled": true
   },
   "outputs": [
    {
     "data": {
      "text/plain": [
       "1.0     1020\n",
       "10.0     379\n",
       "2.0      366\n",
       "3.0      339\n",
       "8.0      320\n",
       "9.0      309\n",
       "4.0      216\n",
       "5.0      215\n",
       "7.0      202\n",
       "6.0      202\n",
       "Name: star_rating, dtype: int64"
      ]
     },
     "execution_count": 12,
     "metadata": {},
     "output_type": "execute_result"
    }
   ],
   "source": [
    "imdb_data.star_rating.value_counts().sort_index()"
   ]
  },
  {
   "cell_type": "code",
   "execution_count": 8,
   "metadata": {},
   "outputs": [
    {
     "data": {
      "text/plain": [
       "1.0     1020\n",
       "10.0     379\n",
       "2.0      366\n",
       "3.0      339\n",
       "8.0      320\n",
       "9.0      309\n",
       "4.0      216\n",
       "5.0      215\n",
       "7.0      202\n",
       "6.0      202\n",
       "Name: star_rating, dtype: int64"
      ]
     },
     "execution_count": 8,
     "metadata": {},
     "output_type": "execute_result"
    }
   ],
   "source": [
    "(imdb_data.star_rating\n",
    "     .value_counts()\n",
    "     .sort_index())"
   ]
  },
  {
   "cell_type": "code",
   "execution_count": 12,
   "metadata": {},
   "outputs": [
    {
     "data": {
      "text/plain": [
       "2.3073150224215246"
      ]
     },
     "execution_count": 12,
     "metadata": {},
     "output_type": "execute_result"
    }
   ],
   "source": [
    "imdb_data.imdb_ratings.mean() / 2"
   ]
  },
  {
   "cell_type": "code",
   "execution_count": null,
   "metadata": {},
   "outputs": [],
   "source": []
  },
  {
   "cell_type": "code",
   "execution_count": null,
   "metadata": {},
   "outputs": [],
   "source": []
  },
  {
   "cell_type": "code",
   "execution_count": null,
   "metadata": {},
   "outputs": [],
   "source": []
  },
  {
   "cell_type": "code",
   "execution_count": null,
   "metadata": {},
   "outputs": [],
   "source": []
  },
  {
   "cell_type": "code",
   "execution_count": null,
   "metadata": {},
   "outputs": [],
   "source": []
  },
  {
   "cell_type": "code",
   "execution_count": null,
   "metadata": {},
   "outputs": [],
   "source": []
  },
  {
   "cell_type": "code",
   "execution_count": null,
   "metadata": {},
   "outputs": [],
   "source": []
  },
  {
   "cell_type": "code",
   "execution_count": null,
   "metadata": {},
   "outputs": [],
   "source": []
  },
  {
   "cell_type": "code",
   "execution_count": null,
   "metadata": {},
   "outputs": [],
   "source": []
  },
  {
   "cell_type": "code",
   "execution_count": null,
   "metadata": {},
   "outputs": [],
   "source": []
  },
  {
   "cell_type": "code",
   "execution_count": null,
   "metadata": {},
   "outputs": [],
   "source": []
  },
  {
   "cell_type": "code",
   "execution_count": null,
   "metadata": {},
   "outputs": [],
   "source": []
  },
  {
   "cell_type": "code",
   "execution_count": null,
   "metadata": {},
   "outputs": [],
   "source": []
  },
  {
   "cell_type": "code",
   "execution_count": null,
   "metadata": {},
   "outputs": [],
   "source": []
  },
  {
   "cell_type": "code",
   "execution_count": null,
   "metadata": {},
   "outputs": [],
   "source": []
  },
  {
   "cell_type": "code",
   "execution_count": null,
   "metadata": {},
   "outputs": [],
   "source": []
  },
  {
   "cell_type": "code",
   "execution_count": null,
   "metadata": {},
   "outputs": [],
   "source": []
  },
  {
   "cell_type": "code",
   "execution_count": null,
   "metadata": {},
   "outputs": [],
   "source": []
  },
  {
   "cell_type": "code",
   "execution_count": null,
   "metadata": {},
   "outputs": [],
   "source": []
  },
  {
   "cell_type": "code",
   "execution_count": null,
   "metadata": {},
   "outputs": [],
   "source": []
  },
  {
   "cell_type": "code",
   "execution_count": null,
   "metadata": {},
   "outputs": [],
   "source": []
  },
  {
   "cell_type": "code",
   "execution_count": null,
   "metadata": {},
   "outputs": [],
   "source": []
  },
  {
   "cell_type": "code",
   "execution_count": null,
   "metadata": {},
   "outputs": [],
   "source": []
  },
  {
   "cell_type": "code",
   "execution_count": null,
   "metadata": {},
   "outputs": [],
   "source": []
  }
 ],
 "metadata": {
  "kernelspec": {
   "display_name": "Python 3",
   "language": "python",
   "name": "python3"
  },
  "language_info": {
   "codemirror_mode": {
    "name": "ipython",
    "version": 3
   },
   "file_extension": ".py",
   "mimetype": "text/x-python",
   "name": "python",
   "nbconvert_exporter": "python",
   "pygments_lexer": "ipython3",
   "version": "3.6.3"
  }
 },
 "nbformat": 4,
 "nbformat_minor": 2
}
