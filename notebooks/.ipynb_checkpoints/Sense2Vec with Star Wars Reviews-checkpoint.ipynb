{
 "cells": [
  {
   "cell_type": "markdown",
   "metadata": {},
   "source": [
    "# Sense2Vec with Star Wars Reviews"
   ]
  },
  {
   "cell_type": "markdown",
   "metadata": {},
   "source": [
    "Here I'll be running Sense2Vec on the Star Wars Reviews that I have collected. This notebook is based loosely on the article 'Sense2vec with spaCy and Gensim' found at https://explosion.ai/blog/sense2vec-with-spacy"
   ]
  },
  {
   "cell_type": "code",
   "execution_count": 1,
   "metadata": {},
   "outputs": [],
   "source": [
    "import os, re\n",
    "import numpy as np\n",
    "import pandas as pd\n",
    "\n",
    "import matplotlib\n",
    "import matplotlib.pyplot as plt\n",
    "matplotlib.style.use('ggplot')\n",
    "%matplotlib inline"
   ]
  },
  {
   "cell_type": "code",
   "execution_count": 2,
   "metadata": {},
   "outputs": [],
   "source": [
    "imdb_data = pd.read_csv(\"../data/imdb_data.csv\")\n",
    "rt_data_1 = pd.read_csv(\"../rotten_tomatoes/reviews.csv\")\n",
    "rt_data_2 = pd.read_csv(\"../rotten_tomatoes/reviews.csv\")\n",
    "\n",
    "rt_data = pd.concat([rt_data_1, rt_data_2]).drop_duplicates()\n",
    "\n",
    "imdb_data['star_rating'] = imdb_data.star_rating / 2\n",
    "imdb_data['source'] = 'imdb'\n",
    "rt_data['source'] = 'rotten tomatoes'\n",
    "\n",
    "data_cols = ['date', 'name', 'user_link', 'source', 'review', 'downvotes', 'upvotes', 'star_rating']\n",
    "review_data = pd.concat([imdb_data, rt_data])[data_cols]"
   ]
  },
  {
   "cell_type": "code",
   "execution_count": null,
   "metadata": {},
   "outputs": [],
   "source": []
  }
 ],
 "metadata": {
  "kernelspec": {
   "display_name": "Python 3",
   "language": "python",
   "name": "python3"
  },
  "language_info": {
   "codemirror_mode": {
    "name": "ipython",
    "version": 3
   },
   "file_extension": ".py",
   "mimetype": "text/x-python",
   "name": "python",
   "nbconvert_exporter": "python",
   "pygments_lexer": "ipython3",
   "version": "3.6.3"
  }
 },
 "nbformat": 4,
 "nbformat_minor": 2
}
