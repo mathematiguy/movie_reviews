{
 "cells": [
  {
   "cell_type": "markdown",
   "metadata": {},
   "source": [
    "# Analysing Reviews of Star Wars: The Last Jedi"
   ]
  },
  {
   "cell_type": "markdown",
   "metadata": {},
   "source": [
    "Here I'll be running an analysis of Star Wars: The Last Jedi reviews."
   ]
  },
  {
   "cell_type": "code",
   "execution_count": 1,
   "metadata": {},
   "outputs": [],
   "source": [
    "import numpy as np\n",
    "import pandas as pd\n",
    "\n",
    "import nltk\n",
    "import spacy\n",
    "import textacy\n",
    "\n",
    "import matplotlib\n",
    "import matplotlib.pyplot as plt\n",
    "matplotlib.style.use('ggplot')\n",
    "% matplotlib inline"
   ]
  },
  {
   "cell_type": "code",
   "execution_count": 2,
   "metadata": {},
   "outputs": [],
   "source": [
    "nlp = spacy.load('en')"
   ]
  },
  {
   "cell_type": "code",
   "execution_count": 3,
   "metadata": {},
   "outputs": [],
   "source": [
    "review_data = pd.read_csv(\"../the_last_jedi/reviews.csv\")"
   ]
  },
  {
   "cell_type": "code",
   "execution_count": 4,
   "metadata": {},
   "outputs": [
    {
     "data": {
      "text/html": [
       "<div>\n",
       "<style scoped>\n",
       "    .dataframe tbody tr th:only-of-type {\n",
       "        vertical-align: middle;\n",
       "    }\n",
       "\n",
       "    .dataframe tbody tr th {\n",
       "        vertical-align: top;\n",
       "    }\n",
       "\n",
       "    .dataframe thead th {\n",
       "        text-align: right;\n",
       "    }\n",
       "</style>\n",
       "<table border=\"1\" class=\"dataframe\">\n",
       "  <thead>\n",
       "    <tr style=\"text-align: right;\">\n",
       "      <th></th>\n",
       "      <th>date</th>\n",
       "      <th>review</th>\n",
       "      <th>star_rating</th>\n",
       "      <th>name</th>\n",
       "    </tr>\n",
       "  </thead>\n",
       "  <tbody>\n",
       "    <tr>\n",
       "      <th>0</th>\n",
       "      <td>December 24, 2017</td>\n",
       "      <td>One start only because of the special effects.</td>\n",
       "      <td>1.0</td>\n",
       "      <td>Ed F</td>\n",
       "    </tr>\n",
       "    <tr>\n",
       "      <th>1</th>\n",
       "      <td>December 24, 2017</td>\n",
       "      <td>When I heard Disney had purchased Star Wars so...</td>\n",
       "      <td>0.5</td>\n",
       "      <td>Hals R</td>\n",
       "    </tr>\n",
       "    <tr>\n",
       "      <th>2</th>\n",
       "      <td>December 24, 2017</td>\n",
       "      <td>\"Just breathe\" and go see it a second time. En...</td>\n",
       "      <td>4.0</td>\n",
       "      <td>Ian A</td>\n",
       "    </tr>\n",
       "    <tr>\n",
       "      <th>3</th>\n",
       "      <td>December 24, 2017</td>\n",
       "      <td>If you need to keep checking your watch, the m...</td>\n",
       "      <td>1.0</td>\n",
       "      <td>M M</td>\n",
       "    </tr>\n",
       "    <tr>\n",
       "      <th>4</th>\n",
       "      <td>December 24, 2017</td>\n",
       "      <td>Just hated it. Wanted this movie to make some ...</td>\n",
       "      <td>0.5</td>\n",
       "      <td>James N</td>\n",
       "    </tr>\n",
       "  </tbody>\n",
       "</table>\n",
       "</div>"
      ],
      "text/plain": [
       "                date                                             review  \\\n",
       "0  December 24, 2017     One start only because of the special effects.   \n",
       "1  December 24, 2017  When I heard Disney had purchased Star Wars so...   \n",
       "2  December 24, 2017  \"Just breathe\" and go see it a second time. En...   \n",
       "3  December 24, 2017  If you need to keep checking your watch, the m...   \n",
       "4  December 24, 2017  Just hated it. Wanted this movie to make some ...   \n",
       "\n",
       "   star_rating      name  \n",
       "0          1.0      Ed F  \n",
       "1          0.5    Hals R  \n",
       "2          4.0     Ian A  \n",
       "3          1.0       M M  \n",
       "4          0.5   James N  "
      ]
     },
     "execution_count": 4,
     "metadata": {},
     "output_type": "execute_result"
    }
   ],
   "source": [
    "review_data.head()"
   ]
  },
  {
   "cell_type": "code",
   "execution_count": 53,
   "metadata": {},
   "outputs": [
    {
     "data": {
      "text/plain": [
       "<matplotlib.axes._subplots.AxesSubplot at 0x22884afa7b8>"
      ]
     },
     "execution_count": 53,
     "metadata": {},
     "output_type": "execute_result"
    },
    {
     "data": {
      "image/png": "[encoded data removed]",
      "text/plain": [
       "<matplotlib.figure.Figure at 0x22884a32ac8>"
      ]
     },
     "metadata": {},
     "output_type": "display_data"
    }
   ],
   "source": [
    "(review_data.star_rating\n",
    "    .plot(kind = 'hist', bins = 11, title = 'Star Rating Frequency'))"
   ]
  },
  {
   "cell_type": "code",
   "execution_count": 6,
   "metadata": {},
   "outputs": [
    {
     "data": {
      "text/plain": [
       "array([' ', '%', '-', '0', '2', '?', '_', 'a', 'b', 'c', 'd', 'e', 'f',\n",
       "       'g', 'h', 'i', 'j', 'k', 'l', 'm', 'n', 'o', 'p', 'q', 'r', 's',\n",
       "       't', 'u', 'v', 'w', 'x', 'y', 'z', 'é'],\n",
       "      dtype='<U1')"
      ]
     },
     "execution_count": 6,
     "metadata": {},
     "output_type": "execute_result"
    }
   ],
   "source": [
    "np.unique([s.lower() for s in ''.join(review_data.name)])"
   ]
  },
  {
   "cell_type": "code",
   "execution_count": 55,
   "metadata": {},
   "outputs": [
    {
     "data": {
      "text/html": [
       "<div>\n",
       "<style scoped>\n",
       "    .dataframe tbody tr th:only-of-type {\n",
       "        vertical-align: middle;\n",
       "    }\n",
       "\n",
       "    .dataframe tbody tr th {\n",
       "        vertical-align: top;\n",
       "    }\n",
       "\n",
       "    .dataframe thead th {\n",
       "        text-align: right;\n",
       "    }\n",
       "</style>\n",
       "<table border=\"1\" class=\"dataframe\">\n",
       "  <thead>\n",
       "    <tr style=\"text-align: right;\">\n",
       "      <th></th>\n",
       "      <th>date</th>\n",
       "      <th>review</th>\n",
       "      <th>star_rating</th>\n",
       "      <th>name</th>\n",
       "    </tr>\n",
       "  </thead>\n",
       "  <tbody>\n",
       "    <tr>\n",
       "      <th>0</th>\n",
       "      <td>December 24, 2017</td>\n",
       "      <td>One start only because of the special effects.</td>\n",
       "      <td>1.0</td>\n",
       "      <td>Ed F</td>\n",
       "    </tr>\n",
       "    <tr>\n",
       "      <th>1</th>\n",
       "      <td>December 24, 2017</td>\n",
       "      <td>When I heard Disney had purchased Star Wars so...</td>\n",
       "      <td>0.5</td>\n",
       "      <td>Hals R</td>\n",
       "    </tr>\n",
       "    <tr>\n",
       "      <th>2</th>\n",
       "      <td>December 24, 2017</td>\n",
       "      <td>\"Just breathe\" and go see it a second time. En...</td>\n",
       "      <td>4.0</td>\n",
       "      <td>Ian A</td>\n",
       "    </tr>\n",
       "    <tr>\n",
       "      <th>3</th>\n",
       "      <td>December 24, 2017</td>\n",
       "      <td>If you need to keep checking your watch, the m...</td>\n",
       "      <td>1.0</td>\n",
       "      <td>M M</td>\n",
       "    </tr>\n",
       "    <tr>\n",
       "      <th>4</th>\n",
       "      <td>December 24, 2017</td>\n",
       "      <td>Just hated it. Wanted this movie to make some ...</td>\n",
       "      <td>0.5</td>\n",
       "      <td>James N</td>\n",
       "    </tr>\n",
       "    <tr>\n",
       "      <th>5</th>\n",
       "      <td>December 24, 2017</td>\n",
       "      <td>TLJ presents a riveting follow-up to TFA. It's...</td>\n",
       "      <td>4.5</td>\n",
       "      <td>Henry K</td>\n",
       "    </tr>\n",
       "    <tr>\n",
       "      <th>6</th>\n",
       "      <td>December 24, 2017</td>\n",
       "      <td>This movie sticks with you but for the wrong r...</td>\n",
       "      <td>0.5</td>\n",
       "      <td>Pierre B</td>\n",
       "    </tr>\n",
       "    <tr>\n",
       "      <th>7</th>\n",
       "      <td>December 24, 2017</td>\n",
       "      <td>This film was a film that didn't have to be ma...</td>\n",
       "      <td>2.5</td>\n",
       "      <td>Alfredo L</td>\n",
       "    </tr>\n",
       "    <tr>\n",
       "      <th>8</th>\n",
       "      <td>December 24, 2017</td>\n",
       "      <td>A bloated mess of a film that is too long and ...</td>\n",
       "      <td>0.0</td>\n",
       "      <td>Sneed C</td>\n",
       "    </tr>\n",
       "    <tr>\n",
       "      <th>9</th>\n",
       "      <td>December 24, 2017</td>\n",
       "      <td>Difficult to know where to start with this mes...</td>\n",
       "      <td>1.5</td>\n",
       "      <td>Darren S</td>\n",
       "    </tr>\n",
       "    <tr>\n",
       "      <th>10</th>\n",
       "      <td>December 24, 2017</td>\n",
       "      <td>A post modernist take on Star Wars, which make...</td>\n",
       "      <td>0.5</td>\n",
       "      <td>Churbology J</td>\n",
       "    </tr>\n",
       "    <tr>\n",
       "      <th>11</th>\n",
       "      <td>December 24, 2017</td>\n",
       "      <td>Disappointed. A soulless movie. I've lost hope...</td>\n",
       "      <td>2.0</td>\n",
       "      <td></td>\n",
       "    </tr>\n",
       "    <tr>\n",
       "      <th>12</th>\n",
       "      <td>December 24, 2017</td>\n",
       "      <td>Is it just me, or do a bunch of the 5 star rev...</td>\n",
       "      <td>1.5</td>\n",
       "      <td>Michael B</td>\n",
       "    </tr>\n",
       "    <tr>\n",
       "      <th>13</th>\n",
       "      <td>December 24, 2017</td>\n",
       "      <td>If you think there's about to be a climatic sc...</td>\n",
       "      <td>1.0</td>\n",
       "      <td>james s</td>\n",
       "    </tr>\n",
       "    <tr>\n",
       "      <th>14</th>\n",
       "      <td>December 24, 2017</td>\n",
       "      <td>Looking for a movie that bears the name of sta...</td>\n",
       "      <td>0.5</td>\n",
       "      <td>Judson S</td>\n",
       "    </tr>\n",
       "    <tr>\n",
       "      <th>15</th>\n",
       "      <td>December 24, 2017</td>\n",
       "      <td>The good news, it's better than it's predecess...</td>\n",
       "      <td>3.0</td>\n",
       "      <td>Donald C</td>\n",
       "    </tr>\n",
       "    <tr>\n",
       "      <th>16</th>\n",
       "      <td>December 24, 2017</td>\n",
       "      <td>Great story. Something different than the stan...</td>\n",
       "      <td>5.0</td>\n",
       "      <td>Brian W</td>\n",
       "    </tr>\n",
       "    <tr>\n",
       "      <th>17</th>\n",
       "      <td>December 24, 2017</td>\n",
       "      <td>Loved it. More complex than most of the series...</td>\n",
       "      <td>5.0</td>\n",
       "      <td></td>\n",
       "    </tr>\n",
       "    <tr>\n",
       "      <th>18</th>\n",
       "      <td>December 24, 2017</td>\n",
       "      <td>solid 2 stars. It was entertaining to watch bu...</td>\n",
       "      <td>2.0</td>\n",
       "      <td>Defender o</td>\n",
       "    </tr>\n",
       "    <tr>\n",
       "      <th>19</th>\n",
       "      <td>December 24, 2017</td>\n",
       "      <td>Not going to see this.</td>\n",
       "      <td>0.5</td>\n",
       "      <td>Michael K</td>\n",
       "    </tr>\n",
       "  </tbody>\n",
       "</table>\n",
       "</div>"
      ],
      "text/plain": [
       "                 date                                             review  \\\n",
       "0   December 24, 2017     One start only because of the special effects.   \n",
       "1   December 24, 2017  When I heard Disney had purchased Star Wars so...   \n",
       "2   December 24, 2017  \"Just breathe\" and go see it a second time. En...   \n",
       "3   December 24, 2017  If you need to keep checking your watch, the m...   \n",
       "4   December 24, 2017  Just hated it. Wanted this movie to make some ...   \n",
       "5   December 24, 2017  TLJ presents a riveting follow-up to TFA. It's...   \n",
       "6   December 24, 2017  This movie sticks with you but for the wrong r...   \n",
       "7   December 24, 2017  This film was a film that didn't have to be ma...   \n",
       "8   December 24, 2017  A bloated mess of a film that is too long and ...   \n",
       "9   December 24, 2017  Difficult to know where to start with this mes...   \n",
       "10  December 24, 2017  A post modernist take on Star Wars, which make...   \n",
       "11  December 24, 2017  Disappointed. A soulless movie. I've lost hope...   \n",
       "12  December 24, 2017  Is it just me, or do a bunch of the 5 star rev...   \n",
       "13  December 24, 2017  If you think there's about to be a climatic sc...   \n",
       "14  December 24, 2017  Looking for a movie that bears the name of sta...   \n",
       "15  December 24, 2017  The good news, it's better than it's predecess...   \n",
       "16  December 24, 2017  Great story. Something different than the stan...   \n",
       "17  December 24, 2017  Loved it. More complex than most of the series...   \n",
       "18  December 24, 2017  solid 2 stars. It was entertaining to watch bu...   \n",
       "19  December 24, 2017                             Not going to see this.   \n",
       "\n",
       "    star_rating           name  \n",
       "0           1.0           Ed F  \n",
       "1           0.5         Hals R  \n",
       "2           4.0          Ian A  \n",
       "3           1.0            M M  \n",
       "4           0.5        James N  \n",
       "5           4.5        Henry K  \n",
       "6           0.5       Pierre B  \n",
       "7           2.5      Alfredo L  \n",
       "8           0.0        Sneed C  \n",
       "9           1.5       Darren S  \n",
       "10          0.5   Churbology J  \n",
       "11          2.0                 \n",
       "12          1.5      Michael B  \n",
       "13          1.0        james s  \n",
       "14          0.5       Judson S  \n",
       "15          3.0       Donald C  \n",
       "16          5.0        Brian W  \n",
       "17          5.0                 \n",
       "18          2.0     Defender o  \n",
       "19          0.5      Michael K  "
      ]
     },
     "execution_count": 55,
     "metadata": {},
     "output_type": "execute_result"
    }
   ],
   "source": [
    "review_data.head(20)"
   ]
  },
  {
   "cell_type": "markdown",
   "metadata": {},
   "source": [
    "## Gender Matching"
   ]
  },
  {
   "cell_type": "markdown",
   "metadata": {
    "collapsed": true
   },
   "source": [
    "Let's have a go at detecting gender in the names dataset, this way we can see if there's any gender bias in the data."
   ]
  },
  {
   "cell_type": "code",
   "execution_count": 9,
   "metadata": {},
   "outputs": [
    {
     "data": {
      "text/html": [
       "<div>\n",
       "<style scoped>\n",
       "    .dataframe tbody tr th:only-of-type {\n",
       "        vertical-align: middle;\n",
       "    }\n",
       "\n",
       "    .dataframe tbody tr th {\n",
       "        vertical-align: top;\n",
       "    }\n",
       "\n",
       "    .dataframe thead th {\n",
       "        text-align: right;\n",
       "    }\n",
       "</style>\n",
       "<table border=\"1\" class=\"dataframe\">\n",
       "  <thead>\n",
       "    <tr style=\"text-align: right;\">\n",
       "      <th></th>\n",
       "      <th>name</th>\n",
       "      <th>male</th>\n",
       "      <th>female</th>\n",
       "      <th>length</th>\n",
       "      <th>sex</th>\n",
       "    </tr>\n",
       "  </thead>\n",
       "  <tbody>\n",
       "    <tr>\n",
       "      <th>198</th>\n",
       "      <td>alicea</td>\n",
       "      <td>0.0</td>\n",
       "      <td>1.0</td>\n",
       "      <td>6</td>\n",
       "      <td>female</td>\n",
       "    </tr>\n",
       "    <tr>\n",
       "      <th>210</th>\n",
       "      <td>alisun</td>\n",
       "      <td>0.0</td>\n",
       "      <td>1.0</td>\n",
       "      <td>6</td>\n",
       "      <td>female</td>\n",
       "    </tr>\n",
       "    <tr>\n",
       "      <th>1009</th>\n",
       "      <td>bud</td>\n",
       "      <td>1.0</td>\n",
       "      <td>0.0</td>\n",
       "      <td>3</td>\n",
       "      <td>male</td>\n",
       "    </tr>\n",
       "    <tr>\n",
       "      <th>2159</th>\n",
       "      <td>eliza</td>\n",
       "      <td>0.0</td>\n",
       "      <td>1.0</td>\n",
       "      <td>5</td>\n",
       "      <td>female</td>\n",
       "    </tr>\n",
       "    <tr>\n",
       "      <th>4162</th>\n",
       "      <td>larine</td>\n",
       "      <td>0.0</td>\n",
       "      <td>1.0</td>\n",
       "      <td>6</td>\n",
       "      <td>female</td>\n",
       "    </tr>\n",
       "    <tr>\n",
       "      <th>4434</th>\n",
       "      <td>lorena</td>\n",
       "      <td>0.0</td>\n",
       "      <td>1.0</td>\n",
       "      <td>6</td>\n",
       "      <td>female</td>\n",
       "    </tr>\n",
       "    <tr>\n",
       "      <th>4484</th>\n",
       "      <td>luciano</td>\n",
       "      <td>1.0</td>\n",
       "      <td>0.0</td>\n",
       "      <td>7</td>\n",
       "      <td>male</td>\n",
       "    </tr>\n",
       "    <tr>\n",
       "      <th>4541</th>\n",
       "      <td>lynna</td>\n",
       "      <td>0.0</td>\n",
       "      <td>1.0</td>\n",
       "      <td>5</td>\n",
       "      <td>female</td>\n",
       "    </tr>\n",
       "    <tr>\n",
       "      <th>6963</th>\n",
       "      <td>titus</td>\n",
       "      <td>1.0</td>\n",
       "      <td>0.0</td>\n",
       "      <td>5</td>\n",
       "      <td>male</td>\n",
       "    </tr>\n",
       "    <tr>\n",
       "      <th>7573</th>\n",
       "      <td>zsazsa</td>\n",
       "      <td>0.0</td>\n",
       "      <td>1.0</td>\n",
       "      <td>6</td>\n",
       "      <td>female</td>\n",
       "    </tr>\n",
       "  </tbody>\n",
       "</table>\n",
       "</div>"
      ],
      "text/plain": [
       "         name  male  female  length     sex\n",
       "198    alicea   0.0     1.0       6  female\n",
       "210    alisun   0.0     1.0       6  female\n",
       "1009      bud   1.0     0.0       3    male\n",
       "2159    eliza   0.0     1.0       5  female\n",
       "4162   larine   0.0     1.0       6  female\n",
       "4434   lorena   0.0     1.0       6  female\n",
       "4484  luciano   1.0     0.0       7    male\n",
       "4541    lynna   0.0     1.0       5  female\n",
       "6963    titus   1.0     0.0       5    male\n",
       "7573   zsazsa   0.0     1.0       6  female"
      ]
     },
     "execution_count": 9,
     "metadata": {},
     "output_type": "execute_result"
    }
   ],
   "source": [
    "from nltk.corpus import names\n",
    "\n",
    "# get names by gender from nltk corpus\n",
    "names = ([(name, 'male') for name in names.words('male.txt')] + \\\n",
    "         [(name, 'female') for name in names.words('female.txt')])\n",
    "\n",
    "# create dataframe of name data\n",
    "name_data = pd.DataFrame(names, columns = ['name', 'sex'])\n",
    "name_data.name = name_data.name.str.lower()\n",
    "\n",
    "# disaggregate into male/female categories\n",
    "name_data['male']   = name_data.sex == 'male'\n",
    "name_data['female'] = name_data.sex == 'female'\n",
    "name_data = name_data[['name', 'male', 'female']]\n",
    "\n",
    "# deduplicate name column for cases where names are acceptable as male or female\n",
    "name_data = (name_data\n",
    "    .groupby('name')[['male', 'female']]\n",
    "    .sum()\n",
    "    .reset_index())\n",
    "\n",
    "# calculate name length\n",
    "name_data['length'] = name_data.name.apply(len)\n",
    "\n",
    "# perform train-test-validation split\n",
    "name_data['train_test_validation'] = np.random.choice(['train', 'test', 'validation'], \n",
    "                                                      size = len(name_data), p = [0.7, 0.2, 0.1])\n",
    "name_data['train'] = name_data.train_test_validation == \"train\"\n",
    "name_data['test'] = name_data.train_test_validation == \"test\"\n",
    "name_data['validation'] = name_data.train_test_validation == \"validation\"\n",
    "\n",
    "train_data = name_data[name_data.train][['name', 'male', 'female', 'length']]\n",
    "\n",
    "def male_or_female(x):\n",
    "    \"\"\"\n",
    "    If x is male and female, return 'both', otherwise return 'male' \n",
    "    if x is male and return 'female' otherwise\"\"\"\n",
    "    if x.male == 1:\n",
    "        if x.female != 1:\n",
    "            return 'male'\n",
    "        else:\n",
    "            return 'both'\n",
    "    elif x.female == 1:\n",
    "        return 'female'\n",
    "    else:\n",
    "        return 'both'\n",
    "\n",
    "name_data['sex']  =  name_data[['male', 'female']].apply(male_or_female, axis = 1)\n",
    "train_data['sex'] = train_data[['male', 'female']].apply(male_or_female, axis = 1)\n",
    "\n",
    "# display a random sample of 10 names\n",
    "(train_data.sample(10)\n",
    "     .sort_values('name'))"
   ]
  },
  {
   "cell_type": "code",
   "execution_count": 92,
   "metadata": {},
   "outputs": [
    {
     "data": {
      "text/plain": [
       "<matplotlib.axes._subplots.AxesSubplot at 0x228893b6f28>"
      ]
     },
     "execution_count": 92,
     "metadata": {},
     "output_type": "execute_result"
    },
    {
     "data": {
      "image/png": "[encoded data removed]",
      "text/plain": [
       "<matplotlib.figure.Figure at 0x22889653e48>"
      ]
     },
     "metadata": {},
     "output_type": "display_data"
    }
   ],
   "source": [
    "train_data.length.plot(kind = 'hist', bins = 14, title = 'Name length frequency')"
   ]
  },
  {
   "cell_type": "code",
   "execution_count": 93,
   "metadata": {},
   "outputs": [
    {
     "data": {
      "text/plain": [
       "<matplotlib.axes._subplots.AxesSubplot at 0x2288940ceb8>"
      ]
     },
     "execution_count": 93,
     "metadata": {},
     "output_type": "execute_result"
    },
    {
     "data": {
      "image/png": "[encoded data removed]",
      "text/plain": [
       "<matplotlib.figure.Figure at 0x228849689e8>"
      ]
     },
     "metadata": {},
     "output_type": "display_data"
    }
   ],
   "source": [
    "(train_data.sex\n",
    "     .value_counts()\n",
    "     .plot(kind = 'bar', title = 'Frequency by Sex'))"
   ]
  },
  {
   "cell_type": "markdown",
   "metadata": {},
   "source": [
    "The gender distribution is quite uneven. We will have to modify it before we train the model so that we don't have any issues later."
   ]
  },
  {
   "cell_type": "code",
   "execution_count": 94,
   "metadata": {
    "scrolled": false
   },
   "outputs": [],
   "source": [
    "sample_size = np.int32(\n",
    "    np.floor(np.sum(train_data.sex == 'female') -\\\n",
    "             np.sum(train_data.sex == 'male') +\\\n",
    "             0.5 * np.sum(train_data.sex == 'both')))\n",
    "\n",
    "train_data = pd.concat([train_data[train_data.male == 1]\n",
    "     .sample(sample_size, replace = True)\n",
    "     .reset_index(drop = True),\n",
    "     train_data])"
   ]
  },
  {
   "cell_type": "markdown",
   "metadata": {},
   "source": [
    "That's should have fixed it - the number of male and female names in the dataset should be about equal now."
   ]
  },
  {
   "cell_type": "code",
   "execution_count": 95,
   "metadata": {},
   "outputs": [
    {
     "data": {
      "text/plain": [
       "<matplotlib.axes._subplots.AxesSubplot at 0x22889657908>"
      ]
     },
     "execution_count": 95,
     "metadata": {},
     "output_type": "execute_result"
    },
    {
     "data": {
      "image/png": "[encoded data removed]",
      "text/plain": [
       "<matplotlib.figure.Figure at 0x228893bdf28>"
      ]
     },
     "metadata": {},
     "output_type": "display_data"
    }
   ],
   "source": [
    "(train_data.sex\n",
    "     .value_counts()\n",
    "     .plot(kind = 'bar', title = 'Frequency by Sex'))"
   ]
  },
  {
   "cell_type": "code",
   "execution_count": 98,
   "metadata": {},
   "outputs": [
    {
     "data": {
      "text/plain": [
       "sex\n",
       "both      AxesSubplot(0.125,0.125;0.775x0.755)\n",
       "female    AxesSubplot(0.125,0.125;0.775x0.755)\n",
       "male      AxesSubplot(0.125,0.125;0.775x0.755)\n",
       "Name: length, dtype: object"
      ]
     },
     "execution_count": 98,
     "metadata": {},
     "output_type": "execute_result"
    },
    {
     "data": {
      "image/png": "[encoded data removed]",
      "text/plain": [
       "<matplotlib.figure.Figure at 0x228893340b8>"
      ]
     },
     "metadata": {},
     "output_type": "display_data"
    }
   ],
   "source": [
    "(train_data.groupby('sex')['length']\n",
    "     .plot(kind = 'density', title = \"Name length density by Sex\", legend = True))"
   ]
  },
  {
   "cell_type": "markdown",
   "metadata": {},
   "source": [
    "We now append columns to `name_data` containing features for the name classifier we wish to train."
   ]
  },
  {
   "cell_type": "code",
   "execution_count": 99,
   "metadata": {},
   "outputs": [
    {
     "data": {
      "text/html": [
       "<div>\n",
       "<style scoped>\n",
       "    .dataframe tbody tr th:only-of-type {\n",
       "        vertical-align: middle;\n",
       "    }\n",
       "\n",
       "    .dataframe tbody tr th {\n",
       "        vertical-align: top;\n",
       "    }\n",
       "\n",
       "    .dataframe thead th {\n",
       "        text-align: right;\n",
       "    }\n",
       "</style>\n",
       "<table border=\"1\" class=\"dataframe\">\n",
       "  <thead>\n",
       "    <tr style=\"text-align: right;\">\n",
       "      <th></th>\n",
       "      <th>name</th>\n",
       "      <th>male</th>\n",
       "      <th>female</th>\n",
       "      <th>length</th>\n",
       "      <th>sex</th>\n",
       "      <th>last_letter</th>\n",
       "      <th>last_two_letters</th>\n",
       "      <th>last_three_letters</th>\n",
       "      <th>first_letter</th>\n",
       "      <th>first_two_letters</th>\n",
       "      <th>first_three_letters</th>\n",
       "    </tr>\n",
       "  </thead>\n",
       "  <tbody>\n",
       "    <tr>\n",
       "      <th>0</th>\n",
       "      <td>felix</td>\n",
       "      <td>1.0</td>\n",
       "      <td>0.0</td>\n",
       "      <td>5</td>\n",
       "      <td>male</td>\n",
       "      <td>x</td>\n",
       "      <td>ix</td>\n",
       "      <td>lix</td>\n",
       "      <td>f</td>\n",
       "      <td>fe</td>\n",
       "      <td>fel</td>\n",
       "    </tr>\n",
       "    <tr>\n",
       "      <th>1</th>\n",
       "      <td>merry</td>\n",
       "      <td>1.0</td>\n",
       "      <td>1.0</td>\n",
       "      <td>5</td>\n",
       "      <td>both</td>\n",
       "      <td>y</td>\n",
       "      <td>ry</td>\n",
       "      <td>rry</td>\n",
       "      <td>m</td>\n",
       "      <td>me</td>\n",
       "      <td>mer</td>\n",
       "    </tr>\n",
       "    <tr>\n",
       "      <th>2</th>\n",
       "      <td>janos</td>\n",
       "      <td>1.0</td>\n",
       "      <td>0.0</td>\n",
       "      <td>5</td>\n",
       "      <td>male</td>\n",
       "      <td>s</td>\n",
       "      <td>os</td>\n",
       "      <td>nos</td>\n",
       "      <td>j</td>\n",
       "      <td>ja</td>\n",
       "      <td>jan</td>\n",
       "    </tr>\n",
       "    <tr>\n",
       "      <th>3</th>\n",
       "      <td>pinchas</td>\n",
       "      <td>1.0</td>\n",
       "      <td>0.0</td>\n",
       "      <td>7</td>\n",
       "      <td>male</td>\n",
       "      <td>s</td>\n",
       "      <td>as</td>\n",
       "      <td>has</td>\n",
       "      <td>p</td>\n",
       "      <td>pi</td>\n",
       "      <td>pin</td>\n",
       "    </tr>\n",
       "    <tr>\n",
       "      <th>4</th>\n",
       "      <td>art</td>\n",
       "      <td>1.0</td>\n",
       "      <td>0.0</td>\n",
       "      <td>3</td>\n",
       "      <td>male</td>\n",
       "      <td>t</td>\n",
       "      <td>rt</td>\n",
       "      <td>art</td>\n",
       "      <td>a</td>\n",
       "      <td>ar</td>\n",
       "      <td>art</td>\n",
       "    </tr>\n",
       "  </tbody>\n",
       "</table>\n",
       "</div>"
      ],
      "text/plain": [
       "      name  male  female  length   sex last_letter last_two_letters  \\\n",
       "0    felix   1.0     0.0       5  male           x               ix   \n",
       "1    merry   1.0     1.0       5  both           y               ry   \n",
       "2    janos   1.0     0.0       5  male           s               os   \n",
       "3  pinchas   1.0     0.0       7  male           s               as   \n",
       "4      art   1.0     0.0       3  male           t               rt   \n",
       "\n",
       "  last_three_letters first_letter first_two_letters first_three_letters  \n",
       "0                lix            f                fe                 fel  \n",
       "1                rry            m                me                 mer  \n",
       "2                nos            j                ja                 jan  \n",
       "3                has            p                pi                 pin  \n",
       "4                art            a                ar                 art  "
      ]
     },
     "execution_count": 99,
     "metadata": {},
     "output_type": "execute_result"
    }
   ],
   "source": [
    "def add_name_features(data):\n",
    "    \"\"\"Add features to dataset\"\"\"\n",
    "    # Useful features for gender classification by name\n",
    "    data['last_letter']         = data.name.apply(lambda s: s[-1 ])\n",
    "    data['last_two_letters']    = data.name.apply(lambda s: s[-2:])\n",
    "    data['last_three_letters']  = data.name.apply(lambda s: s[-3:])\n",
    "    data['first_letter']        = data.name.apply(lambda s: s[0 ])\n",
    "    data['first_two_letters']   = data.name.apply(lambda s: s[:2])\n",
    "    data['first_three_letters'] = data.name.apply(lambda s: s[:3])\n",
    "\n",
    "    return data\n",
    "\n",
    "train_data = add_name_features(train_data)\n",
    "name_data  = add_name_features(name_data)\n",
    "\n",
    "train_data.head()"
   ]
  },
  {
   "cell_type": "code",
   "execution_count": 100,
   "metadata": {},
   "outputs": [
    {
     "data": {
      "text/plain": [
       "<matplotlib.axes._subplots.AxesSubplot at 0x228893ef4a8>"
      ]
     },
     "execution_count": 100,
     "metadata": {},
     "output_type": "execute_result"
    },
    {
     "data": {
      "image/png": "[encoded data removed]",
      "text/plain": [
       "<matplotlib.figure.Figure at 0x2288964f828>"
      ]
     },
     "metadata": {},
     "output_type": "display_data"
    }
   ],
   "source": [
    "(train_data.first_letter\n",
    "     .value_counts()\n",
    "     .head(20)\n",
    "     .plot(kind = 'bar', title = 'First letter frequency'))"
   ]
  },
  {
   "cell_type": "code",
   "execution_count": 101,
   "metadata": {},
   "outputs": [
    {
     "data": {
      "text/plain": [
       "<matplotlib.axes._subplots.AxesSubplot at 0x22884451898>"
      ]
     },
     "execution_count": 101,
     "metadata": {},
     "output_type": "execute_result"
    },
    {
     "data": {
      "image/png": "[encoded data removed]",
      "text/plain": [
       "<matplotlib.figure.Figure at 0x228844fc940>"
      ]
     },
     "metadata": {},
     "output_type": "display_data"
    }
   ],
   "source": [
    "(train_data.last_letter\n",
    "     .value_counts()\n",
    "     .head(20)\n",
    "     .plot(kind = 'bar', title = 'Last letter frequency'))"
   ]
  },
  {
   "cell_type": "markdown",
   "metadata": {},
   "source": [
    "## Using Scikit-Learn"
   ]
  },
  {
   "cell_type": "code",
   "execution_count": 71,
   "metadata": {},
   "outputs": [],
   "source": [
    "from sklearn.feature_extraction.text import CountVectorizer"
   ]
  },
  {
   "cell_type": "code",
   "execution_count": 227,
   "metadata": {},
   "outputs": [],
   "source": [
    "cv = CountVectorizer(strip_accents = 'unicode', analyzer = 'char_wb',\n",
    "                     ngram_range = (1,4), max_features = None)"
   ]
  },
  {
   "cell_type": "code",
   "execution_count": 245,
   "metadata": {},
   "outputs": [
    {
     "data": {
      "text/plain": [
       "CountVectorizer(analyzer='char_wb', binary=False, decode_error='strict',\n",
       "        dtype=<class 'numpy.int64'>, encoding='utf-8', input='content',\n",
       "        lowercase=True, max_df=1.0, max_features=None, min_df=1,\n",
       "        ngram_range=(1, 4), preprocessor=None, stop_words=None,\n",
       "        strip_accents='unicode', token_pattern='(?u)\\\\b\\\\w\\\\w+\\\\b',\n",
       "        tokenizer=None, vocabulary=None)"
      ]
     },
     "execution_count": 245,
     "metadata": {},
     "output_type": "execute_result"
    }
   ],
   "source": [
    "cv.fit(train_data.name)"
   ]
  },
  {
   "cell_type": "code",
   "execution_count": 246,
   "metadata": {},
   "outputs": [],
   "source": [
    "X = cv.transform(train_data.name)"
   ]
  },
  {
   "cell_type": "code",
   "execution_count": 247,
   "metadata": {},
   "outputs": [
    {
     "data": {
      "text/plain": [
       "(7096, 12412)"
      ]
     },
     "execution_count": 247,
     "metadata": {},
     "output_type": "execute_result"
    }
   ],
   "source": [
    "X.shape"
   ]
  },
  {
   "cell_type": "code",
   "execution_count": 231,
   "metadata": {},
   "outputs": [],
   "source": [
    "from sklearn.ensemble import RandomForestClassifier"
   ]
  },
  {
   "cell_type": "code",
   "execution_count": 235,
   "metadata": {},
   "outputs": [
    {
     "data": {
      "text/plain": [
       "RandomForestClassifier(bootstrap=True, class_weight=None, criterion='gini',\n",
       "            max_depth=None, max_features='auto', max_leaf_nodes=None,\n",
       "            min_impurity_decrease=0.0, min_impurity_split=None,\n",
       "            min_samples_leaf=1, min_samples_split=2,\n",
       "            min_weight_fraction_leaf=0.0, n_estimators=100, n_jobs=-1,\n",
       "            oob_score=False, random_state=0, verbose=0, warm_start=False)"
      ]
     },
     "execution_count": 235,
     "metadata": {},
     "output_type": "execute_result"
    }
   ],
   "source": [
    "clf = RandomForestClassifier(\n",
    "    n_estimators = 100, random_state = 0, n_jobs = -1\n",
    "    )\n",
    "clf.fit(X, train_data[['male', 'female']])"
   ]
  },
  {
   "cell_type": "code",
   "execution_count": 248,
   "metadata": {},
   "outputs": [],
   "source": [
    "X_test = cv.transform(name_data[name_data.test].name)"
   ]
  },
  {
   "cell_type": "code",
   "execution_count": null,
   "metadata": {},
   "outputs": [],
   "source": [
    "cv."
   ]
  },
  {
   "cell_type": "code",
   "execution_count": 244,
   "metadata": {},
   "outputs": [
    {
     "data": {
      "text/plain": [
       "((7096, 12412), (1534, 6726))"
      ]
     },
     "execution_count": 244,
     "metadata": {},
     "output_type": "execute_result"
    }
   ],
   "source": [
    "X.shape, X_test.shape"
   ]
  },
  {
   "cell_type": "code",
   "execution_count": 237,
   "metadata": {},
   "outputs": [
    {
     "ename": "ValueError",
     "evalue": "Number of features of the model must match the input. Model n_features is 12412 and input n_features is 6726 ",
     "output_type": "error",
     "traceback": [
      "\u001b[1;31m---------------------------------------------------------------------------\u001b[0m",
      "\u001b[1;31mValueError\u001b[0m                                Traceback (most recent call last)",
      "\u001b[1;32m<ipython-input-237-8cf0cc2dca27>\u001b[0m in \u001b[0;36m<module>\u001b[1;34m()\u001b[0m\n\u001b[0;32m      1\u001b[0m \u001b[0my_train\u001b[0m \u001b[1;33m=\u001b[0m \u001b[0mclf\u001b[0m\u001b[1;33m.\u001b[0m\u001b[0mpredict\u001b[0m\u001b[1;33m(\u001b[0m\u001b[0mX\u001b[0m\u001b[1;33m)\u001b[0m\u001b[1;33m\u001b[0m\u001b[0m\n\u001b[1;32m----> 2\u001b[1;33m \u001b[0my_test\u001b[0m  \u001b[1;33m=\u001b[0m \u001b[0mclf\u001b[0m\u001b[1;33m.\u001b[0m\u001b[0mpredict\u001b[0m\u001b[1;33m(\u001b[0m\u001b[0mX_test\u001b[0m\u001b[1;33m)\u001b[0m\u001b[1;33m\u001b[0m\u001b[0m\n\u001b[0m",
      "\u001b[1;32mc:\\users\\caleb\\anaconda3\\envs\\spacy-env\\lib\\site-packages\\sklearn\\ensemble\\forest.py\u001b[0m in \u001b[0;36mpredict\u001b[1;34m(self, X)\u001b[0m\n\u001b[0;32m    536\u001b[0m             \u001b[0mThe\u001b[0m \u001b[0mpredicted\u001b[0m \u001b[0mclasses\u001b[0m\u001b[1;33m.\u001b[0m\u001b[1;33m\u001b[0m\u001b[0m\n\u001b[0;32m    537\u001b[0m         \"\"\"\n\u001b[1;32m--> 538\u001b[1;33m         \u001b[0mproba\u001b[0m \u001b[1;33m=\u001b[0m \u001b[0mself\u001b[0m\u001b[1;33m.\u001b[0m\u001b[0mpredict_proba\u001b[0m\u001b[1;33m(\u001b[0m\u001b[0mX\u001b[0m\u001b[1;33m)\u001b[0m\u001b[1;33m\u001b[0m\u001b[0m\n\u001b[0m\u001b[0;32m    539\u001b[0m \u001b[1;33m\u001b[0m\u001b[0m\n\u001b[0;32m    540\u001b[0m         \u001b[1;32mif\u001b[0m \u001b[0mself\u001b[0m\u001b[1;33m.\u001b[0m\u001b[0mn_outputs_\u001b[0m \u001b[1;33m==\u001b[0m \u001b[1;36m1\u001b[0m\u001b[1;33m:\u001b[0m\u001b[1;33m\u001b[0m\u001b[0m\n",
      "\u001b[1;32mc:\\users\\caleb\\anaconda3\\envs\\spacy-env\\lib\\site-packages\\sklearn\\ensemble\\forest.py\u001b[0m in \u001b[0;36mpredict_proba\u001b[1;34m(self, X)\u001b[0m\n\u001b[0;32m    576\u001b[0m         \u001b[0mcheck_is_fitted\u001b[0m\u001b[1;33m(\u001b[0m\u001b[0mself\u001b[0m\u001b[1;33m,\u001b[0m \u001b[1;34m'estimators_'\u001b[0m\u001b[1;33m)\u001b[0m\u001b[1;33m\u001b[0m\u001b[0m\n\u001b[0;32m    577\u001b[0m         \u001b[1;31m# Check data\u001b[0m\u001b[1;33m\u001b[0m\u001b[1;33m\u001b[0m\u001b[0m\n\u001b[1;32m--> 578\u001b[1;33m         \u001b[0mX\u001b[0m \u001b[1;33m=\u001b[0m \u001b[0mself\u001b[0m\u001b[1;33m.\u001b[0m\u001b[0m_validate_X_predict\u001b[0m\u001b[1;33m(\u001b[0m\u001b[0mX\u001b[0m\u001b[1;33m)\u001b[0m\u001b[1;33m\u001b[0m\u001b[0m\n\u001b[0m\u001b[0;32m    579\u001b[0m \u001b[1;33m\u001b[0m\u001b[0m\n\u001b[0;32m    580\u001b[0m         \u001b[1;31m# Assign chunk of trees to jobs\u001b[0m\u001b[1;33m\u001b[0m\u001b[1;33m\u001b[0m\u001b[0m\n",
      "\u001b[1;32mc:\\users\\caleb\\anaconda3\\envs\\spacy-env\\lib\\site-packages\\sklearn\\ensemble\\forest.py\u001b[0m in \u001b[0;36m_validate_X_predict\u001b[1;34m(self, X)\u001b[0m\n\u001b[0;32m    355\u001b[0m                                  \"call `fit` before exploiting the model.\")\n\u001b[0;32m    356\u001b[0m \u001b[1;33m\u001b[0m\u001b[0m\n\u001b[1;32m--> 357\u001b[1;33m         \u001b[1;32mreturn\u001b[0m \u001b[0mself\u001b[0m\u001b[1;33m.\u001b[0m\u001b[0mestimators_\u001b[0m\u001b[1;33m[\u001b[0m\u001b[1;36m0\u001b[0m\u001b[1;33m]\u001b[0m\u001b[1;33m.\u001b[0m\u001b[0m_validate_X_predict\u001b[0m\u001b[1;33m(\u001b[0m\u001b[0mX\u001b[0m\u001b[1;33m,\u001b[0m \u001b[0mcheck_input\u001b[0m\u001b[1;33m=\u001b[0m\u001b[1;32mTrue\u001b[0m\u001b[1;33m)\u001b[0m\u001b[1;33m\u001b[0m\u001b[0m\n\u001b[0m\u001b[0;32m    358\u001b[0m \u001b[1;33m\u001b[0m\u001b[0m\n\u001b[0;32m    359\u001b[0m     \u001b[1;33m@\u001b[0m\u001b[0mproperty\u001b[0m\u001b[1;33m\u001b[0m\u001b[0m\n",
      "\u001b[1;32mc:\\users\\caleb\\anaconda3\\envs\\spacy-env\\lib\\site-packages\\sklearn\\tree\\tree.py\u001b[0m in \u001b[0;36m_validate_X_predict\u001b[1;34m(self, X, check_input)\u001b[0m\n\u001b[0;32m    382\u001b[0m                              \u001b[1;34m\"match the input. Model n_features is %s and \"\u001b[0m\u001b[1;33m\u001b[0m\u001b[0m\n\u001b[0;32m    383\u001b[0m                              \u001b[1;34m\"input n_features is %s \"\u001b[0m\u001b[1;33m\u001b[0m\u001b[0m\n\u001b[1;32m--> 384\u001b[1;33m                              % (self.n_features_, n_features))\n\u001b[0m\u001b[0;32m    385\u001b[0m \u001b[1;33m\u001b[0m\u001b[0m\n\u001b[0;32m    386\u001b[0m         \u001b[1;32mreturn\u001b[0m \u001b[0mX\u001b[0m\u001b[1;33m\u001b[0m\u001b[0m\n",
      "\u001b[1;31mValueError\u001b[0m: Number of features of the model must match the input. Model n_features is 12412 and input n_features is 6726 "
     ]
    }
   ],
   "source": [
    "y_train = clf.predict(X)\n",
    "y_test  = clf.predict(X_test)"
   ]
  },
  {
   "cell_type": "code",
   "execution_count": 225,
   "metadata": {},
   "outputs": [
    {
     "data": {
      "text/plain": [
       "male      0.498044\n",
       "female    0.530639\n",
       "dtype: float64"
      ]
     },
     "execution_count": 225,
     "metadata": {},
     "output_type": "execute_result"
    }
   ],
   "source": [
    "# Calculate Test Accuracy\n",
    "np.sum(y_test == name_data[name_data.test][['male', 'female']])/np.sum(name_data.test)"
   ]
  },
  {
   "cell_type": "code",
   "execution_count": 226,
   "metadata": {},
   "outputs": [
    {
     "data": {
      "text/plain": [
       "male      0.999577\n",
       "female    0.999436\n",
       "dtype: float64"
      ]
     },
     "execution_count": 226,
     "metadata": {},
     "output_type": "execute_result"
    }
   ],
   "source": [
    "# Calculate Training Accuracy\n",
    "np.sum(y_train == train_data[['male', 'female']])/len(train_data)"
   ]
  },
  {
   "cell_type": "code",
   "execution_count": null,
   "metadata": {},
   "outputs": [],
   "source": []
  },
  {
   "cell_type": "code",
   "execution_count": null,
   "metadata": {},
   "outputs": [],
   "source": []
  },
  {
   "cell_type": "code",
   "execution_count": null,
   "metadata": {},
   "outputs": [],
   "source": []
  },
  {
   "cell_type": "code",
   "execution_count": null,
   "metadata": {},
   "outputs": [],
   "source": []
  },
  {
   "cell_type": "code",
   "execution_count": null,
   "metadata": {},
   "outputs": [],
   "source": []
  },
  {
   "cell_type": "code",
   "execution_count": null,
   "metadata": {},
   "outputs": [],
   "source": []
  },
  {
   "cell_type": "code",
   "execution_count": null,
   "metadata": {},
   "outputs": [],
   "source": []
  }
 ],
 "metadata": {
  "kernelspec": {
   "display_name": "Python 3",
   "language": "python",
   "name": "python3"
  },
  "language_info": {
   "codemirror_mode": {
    "name": "ipython",
    "version": 3
   },
   "file_extension": ".py",
   "mimetype": "text/x-python",
   "name": "python",
   "nbconvert_exporter": "python",
   "pygments_lexer": "ipython3",
   "version": "3.6.3"
  }
 },
 "nbformat": 4,
 "nbformat_minor": 2
}
